{
 "cells": [
  {
   "cell_type": "code",
   "execution_count": 22,
   "id": "initial_id",
   "metadata": {
    "collapsed": true,
    "ExecuteTime": {
     "end_time": "2023-12-12T15:02:08.118609Z",
     "start_time": "2023-12-12T15:02:08.112606Z"
    }
   },
   "outputs": [],
   "source": [
    "import pandas as pd\n",
    "\n",
    "from datetime import datetime"
   ]
  },
  {
   "cell_type": "code",
   "execution_count": 27,
   "outputs": [],
   "source": [
    "grades = pd.DataFrame({'2017-02-05': {'Hermione': 5, 'Ron': 2},\n",
    "                       '2017-02-12': {'Hermione': float('nan'), 'Ron': float('nan')},\n",
    "                       '2017-02-19': {'Hermione': 7.0, 'Ron': float('nan')},\n",
    "                       '2017-02-26': {'Hermione': float('nan'), 'Ron': 4.0}})\n",
    "\n",
    "plan = pd.DataFrame({'activity': {0: 'Test', 1: 'Test', 2: 'Seminar', 3: 'Seminar'},\n",
    "                     'date': {0: '2017-02-05', 1: '2017-02-12', 2: '2017-02-19', 3: '2017-02-26'}})\n",
    "\n",
    "excuses = pd.DataFrame({'name': {0: 'Hermione', 1: 'Hermione', 2: 'Ron', 3: 'Harry'},\n",
    "                        'date': {0: '2017-02-10 2017-02-11', 1: '2017-02-12 2017-02-12', 2: '2017-02-19 2017-02-19', 3: '2017-02-19 2017-02-19'},\n",
    "                        'reason': {0: 'valid', 1: 'valid', 2: 'invalid', 3: 'invalid'}})\n",
    "\n",
    "# the sample structure of the result variable\n",
    "result = pd.Series({'Hermione': 4, 'Ron': 2})"
   ],
   "metadata": {
    "collapsed": false,
    "ExecuteTime": {
     "end_time": "2023-12-12T15:22:33.538098500Z",
     "start_time": "2023-12-12T15:22:33.531813300Z"
    }
   },
   "id": "3693db174a837080"
  },
  {
   "cell_type": "code",
   "execution_count": 28,
   "outputs": [],
   "source": [
    "grades = grades.T\n",
    "plan.set_index('date', inplace=True)\n",
    "excuses[['start_date', 'end_date']] = excuses['date'].str.split(expand=True)\n",
    "excuses['start_date'] = pd.to_datetime(excuses['start_date'])\n",
    "excuses['end_date'] = pd.to_datetime(excuses['end_date'])\n",
    "excuses.drop('date', axis=1, inplace=True)"
   ],
   "metadata": {
    "collapsed": false,
    "ExecuteTime": {
     "end_time": "2023-12-12T15:22:40.625479300Z",
     "start_time": "2023-12-12T15:22:40.608161300Z"
    }
   },
   "id": "bd90da93cfe62217"
  },
  {
   "cell_type": "code",
   "execution_count": 44,
   "outputs": [
    {
     "data": {
      "text/plain": "{'2017-02-05': 'Test',\n '2017-02-12': 'Test',\n '2017-02-19': 'Seminar',\n '2017-02-26': 'Seminar'}"
     },
     "execution_count": 44,
     "metadata": {},
     "output_type": "execute_result"
    }
   ],
   "source": [
    "plan.to_dict()['activity']"
   ],
   "metadata": {
    "collapsed": false,
    "ExecuteTime": {
     "end_time": "2023-12-12T15:25:33.819661800Z",
     "start_time": "2023-12-12T15:25:33.808873Z"
    }
   },
   "id": "25bb1d940b23fdc8"
  },
  {
   "cell_type": "code",
   "execution_count": 25,
   "outputs": [
    {
     "ename": "KeyError",
     "evalue": "'2017-02-05'",
     "output_type": "error",
     "traceback": [
      "\u001B[1;31m---------------------------------------------------------------------------\u001B[0m",
      "\u001B[1;31mKeyError\u001B[0m                                  Traceback (most recent call last)",
      "File \u001B[1;32m~\\miniconda3\\envs\\data_science\\Lib\\site-packages\\pandas\\core\\indexes\\base.py:3653\u001B[0m, in \u001B[0;36mIndex.get_loc\u001B[1;34m(self, key)\u001B[0m\n\u001B[0;32m   3652\u001B[0m \u001B[38;5;28;01mtry\u001B[39;00m:\n\u001B[1;32m-> 3653\u001B[0m     \u001B[38;5;28;01mreturn\u001B[39;00m \u001B[38;5;28mself\u001B[39m\u001B[38;5;241m.\u001B[39m_engine\u001B[38;5;241m.\u001B[39mget_loc(casted_key)\n\u001B[0;32m   3654\u001B[0m \u001B[38;5;28;01mexcept\u001B[39;00m \u001B[38;5;167;01mKeyError\u001B[39;00m \u001B[38;5;28;01mas\u001B[39;00m err:\n",
      "File \u001B[1;32m~\\miniconda3\\envs\\data_science\\Lib\\site-packages\\pandas\\_libs\\index.pyx:147\u001B[0m, in \u001B[0;36mpandas._libs.index.IndexEngine.get_loc\u001B[1;34m()\u001B[0m\n",
      "File \u001B[1;32m~\\miniconda3\\envs\\data_science\\Lib\\site-packages\\pandas\\_libs\\index.pyx:176\u001B[0m, in \u001B[0;36mpandas._libs.index.IndexEngine.get_loc\u001B[1;34m()\u001B[0m\n",
      "File \u001B[1;32mpandas\\_libs\\hashtable_class_helper.pxi:7080\u001B[0m, in \u001B[0;36mpandas._libs.hashtable.PyObjectHashTable.get_item\u001B[1;34m()\u001B[0m\n",
      "File \u001B[1;32mpandas\\_libs\\hashtable_class_helper.pxi:7088\u001B[0m, in \u001B[0;36mpandas._libs.hashtable.PyObjectHashTable.get_item\u001B[1;34m()\u001B[0m\n",
      "\u001B[1;31mKeyError\u001B[0m: '2017-02-05'",
      "\nThe above exception was the direct cause of the following exception:\n",
      "\u001B[1;31mKeyError\u001B[0m                                  Traceback (most recent call last)",
      "Cell \u001B[1;32mIn[25], line 52\u001B[0m\n\u001B[0;32m     48\u001B[0m             \u001B[38;5;28;01mreturn\u001B[39;00m \u001B[38;5;28;01mTrue\u001B[39;00m\n\u001B[0;32m     49\u001B[0m         \u001B[38;5;28;01mreturn\u001B[39;00m \u001B[38;5;28;01mFalse\u001B[39;00m\n\u001B[1;32m---> 52\u001B[0m main(grades, excuses, plan)\n",
      "Cell \u001B[1;32mIn[25], line 16\u001B[0m, in \u001B[0;36mmain\u001B[1;34m(grades, excuses, plan)\u001B[0m\n\u001B[0;32m     13\u001B[0m     cnt_grades[name] \u001B[38;5;241m=\u001B[39m {\u001B[38;5;124m'\u001B[39m\u001B[38;5;124mSeminar\u001B[39m\u001B[38;5;124m'\u001B[39m: {\u001B[38;5;124m'\u001B[39m\u001B[38;5;124msum\u001B[39m\u001B[38;5;124m'\u001B[39m: \u001B[38;5;241m0\u001B[39m, \u001B[38;5;124m'\u001B[39m\u001B[38;5;124mcnt\u001B[39m\u001B[38;5;124m'\u001B[39m: \u001B[38;5;241m0\u001B[39m},\n\u001B[0;32m     14\u001B[0m                         \u001B[38;5;124m'\u001B[39m\u001B[38;5;124mTest\u001B[39m\u001B[38;5;124m'\u001B[39m: {\u001B[38;5;124m'\u001B[39m\u001B[38;5;124msum\u001B[39m\u001B[38;5;124m'\u001B[39m: \u001B[38;5;241m0\u001B[39m, \u001B[38;5;124m'\u001B[39m\u001B[38;5;124mcnt\u001B[39m\u001B[38;5;124m'\u001B[39m: \u001B[38;5;241m0\u001B[39m}}\n\u001B[0;32m     15\u001B[0m \u001B[38;5;28;01mfor\u001B[39;00m date, row \u001B[38;5;129;01min\u001B[39;00m grades\u001B[38;5;241m.\u001B[39miterrows():\n\u001B[1;32m---> 16\u001B[0m     activity \u001B[38;5;241m=\u001B[39m plan[date]\n\u001B[0;32m     17\u001B[0m     \u001B[38;5;28;01mfor\u001B[39;00m name \u001B[38;5;129;01min\u001B[39;00m names:\n\u001B[0;32m     18\u001B[0m         value \u001B[38;5;241m=\u001B[39m row[name]\n",
      "File \u001B[1;32m~\\miniconda3\\envs\\data_science\\Lib\\site-packages\\pandas\\core\\frame.py:3761\u001B[0m, in \u001B[0;36mDataFrame.__getitem__\u001B[1;34m(self, key)\u001B[0m\n\u001B[0;32m   3759\u001B[0m \u001B[38;5;28;01mif\u001B[39;00m \u001B[38;5;28mself\u001B[39m\u001B[38;5;241m.\u001B[39mcolumns\u001B[38;5;241m.\u001B[39mnlevels \u001B[38;5;241m>\u001B[39m \u001B[38;5;241m1\u001B[39m:\n\u001B[0;32m   3760\u001B[0m     \u001B[38;5;28;01mreturn\u001B[39;00m \u001B[38;5;28mself\u001B[39m\u001B[38;5;241m.\u001B[39m_getitem_multilevel(key)\n\u001B[1;32m-> 3761\u001B[0m indexer \u001B[38;5;241m=\u001B[39m \u001B[38;5;28mself\u001B[39m\u001B[38;5;241m.\u001B[39mcolumns\u001B[38;5;241m.\u001B[39mget_loc(key)\n\u001B[0;32m   3762\u001B[0m \u001B[38;5;28;01mif\u001B[39;00m is_integer(indexer):\n\u001B[0;32m   3763\u001B[0m     indexer \u001B[38;5;241m=\u001B[39m [indexer]\n",
      "File \u001B[1;32m~\\miniconda3\\envs\\data_science\\Lib\\site-packages\\pandas\\core\\indexes\\base.py:3655\u001B[0m, in \u001B[0;36mIndex.get_loc\u001B[1;34m(self, key)\u001B[0m\n\u001B[0;32m   3653\u001B[0m     \u001B[38;5;28;01mreturn\u001B[39;00m \u001B[38;5;28mself\u001B[39m\u001B[38;5;241m.\u001B[39m_engine\u001B[38;5;241m.\u001B[39mget_loc(casted_key)\n\u001B[0;32m   3654\u001B[0m \u001B[38;5;28;01mexcept\u001B[39;00m \u001B[38;5;167;01mKeyError\u001B[39;00m \u001B[38;5;28;01mas\u001B[39;00m err:\n\u001B[1;32m-> 3655\u001B[0m     \u001B[38;5;28;01mraise\u001B[39;00m \u001B[38;5;167;01mKeyError\u001B[39;00m(key) \u001B[38;5;28;01mfrom\u001B[39;00m \u001B[38;5;21;01merr\u001B[39;00m\n\u001B[0;32m   3656\u001B[0m \u001B[38;5;28;01mexcept\u001B[39;00m \u001B[38;5;167;01mTypeError\u001B[39;00m:\n\u001B[0;32m   3657\u001B[0m     \u001B[38;5;66;03m# If we have a listlike key, _check_indexing_error will raise\u001B[39;00m\n\u001B[0;32m   3658\u001B[0m     \u001B[38;5;66;03m#  InvalidIndexError. Otherwise we fall through and re-raise\u001B[39;00m\n\u001B[0;32m   3659\u001B[0m     \u001B[38;5;66;03m#  the TypeError.\u001B[39;00m\n\u001B[0;32m   3660\u001B[0m     \u001B[38;5;28mself\u001B[39m\u001B[38;5;241m.\u001B[39m_check_indexing_error(key)\n",
      "\u001B[1;31mKeyError\u001B[0m: '2017-02-05'"
     ]
    }
   ],
   "source": [
    "def main(grades, excuses, plan):\n",
    "    # prepare dataframes\n",
    "    grades = grades.T\n",
    "    plan.set_index('date', inplace=True) \n",
    "    excuses[['start_date', 'end_date']] = excuses['date'].str.split(expand=True)\n",
    "    excuses['start_date'] = pd.to_datetime(excuses['start_date'])\n",
    "    excuses['end_date'] = pd.to_datetime(excuses['end_date'])\n",
    "    excuses.drop('date', axis=1, inplace=True)\n",
    "\n",
    "    cnt_grades = {}\n",
    "    names = grades.columns\n",
    "    for name in names:\n",
    "        cnt_grades[name] = {'Seminar': {'sum': 0, 'cnt': 0},\n",
    "                            'Test': {'sum': 0, 'cnt': 0}}\n",
    "    for date, row in grades.iterrows():\n",
    "        activity = plan[date]\n",
    "        for name in names:\n",
    "            value = row[name]\n",
    "            if pd.isna(value):\n",
    "                is_valid = is_valid_excuse(excuses, date, name)\n",
    "                if is_valid:\n",
    "                    continue\n",
    "                else:\n",
    "                    cnt_grades[activity][name]['cnt'] += 1\n",
    "            else:\n",
    "                cnt_grades[activity][name]['cnt'] += 1\n",
    "                cnt_grades[activity][name]['sum'] += value\n",
    "    \n",
    "    result = {}\n",
    "    for name in names:\n",
    "        avg_seminars = (cnt_grades['Seminar'][name]['sum'] /\n",
    "                        cnt_grades['Seminar'][name]['cnt'])\n",
    "        avg_tests = (cnt_grades['Test'][name]['sum'] /\n",
    "                        cnt_grades['Test'][name]['cnt'])\n",
    "        result[name] = 0.7*avg_seminars + 0.3*avg_tests\n",
    "    return result\n",
    "        \n",
    "\n",
    "def is_valid_excuse(excuses, date, name):\n",
    "    date = datetime.strptime(date, \"%Y-%m-%d\")\n",
    "    filtered_df = excuses[(excuses['start_date'] <= date) & (excuses['end_date'] >= date)]\n",
    "    filtered_df = filtered_df[filtered_df['name'] == name]\n",
    "    if len(filtered_df) == 0:\n",
    "        return False\n",
    "    else:\n",
    "        reason = filtered_df.iloc[0]['reason']\n",
    "        if reason == 'valid':\n",
    "            return True\n",
    "        return False\n",
    "    \n",
    "    \n",
    "main(grades, excuses, plan)"
   ],
   "metadata": {
    "collapsed": false,
    "ExecuteTime": {
     "end_time": "2023-12-12T15:16:51.608984200Z",
     "start_time": "2023-12-12T15:16:49.024710400Z"
    }
   },
   "id": "e5242d57016ff7b4"
  },
  {
   "cell_type": "code",
   "execution_count": 4,
   "outputs": [
    {
     "data": {
      "text/plain": "       name                   date   reason\n0  Hermione  2017-02-10 2017-02-11    valid\n1  Hermione  2017-02-12 2017-02-12    valid\n2       Ron  2017-02-19 2017-02-19  invalid\n3     Harry  2017-02-19 2017-02-19  invalid",
      "text/html": "<div>\n<style scoped>\n    .dataframe tbody tr th:only-of-type {\n        vertical-align: middle;\n    }\n\n    .dataframe tbody tr th {\n        vertical-align: top;\n    }\n\n    .dataframe thead th {\n        text-align: right;\n    }\n</style>\n<table border=\"1\" class=\"dataframe\">\n  <thead>\n    <tr style=\"text-align: right;\">\n      <th></th>\n      <th>name</th>\n      <th>date</th>\n      <th>reason</th>\n    </tr>\n  </thead>\n  <tbody>\n    <tr>\n      <th>0</th>\n      <td>Hermione</td>\n      <td>2017-02-10 2017-02-11</td>\n      <td>valid</td>\n    </tr>\n    <tr>\n      <th>1</th>\n      <td>Hermione</td>\n      <td>2017-02-12 2017-02-12</td>\n      <td>valid</td>\n    </tr>\n    <tr>\n      <th>2</th>\n      <td>Ron</td>\n      <td>2017-02-19 2017-02-19</td>\n      <td>invalid</td>\n    </tr>\n    <tr>\n      <th>3</th>\n      <td>Harry</td>\n      <td>2017-02-19 2017-02-19</td>\n      <td>invalid</td>\n    </tr>\n  </tbody>\n</table>\n</div>"
     },
     "execution_count": 4,
     "metadata": {},
     "output_type": "execute_result"
    }
   ],
   "source": [
    "excuses"
   ],
   "metadata": {
    "collapsed": false,
    "ExecuteTime": {
     "end_time": "2023-12-12T14:32:57.304020200Z",
     "start_time": "2023-12-12T14:32:57.298016800Z"
    }
   },
   "id": "ff787e72809c2533"
  },
  {
   "cell_type": "code",
   "execution_count": null,
   "outputs": [],
   "source": [],
   "metadata": {
    "collapsed": false
   },
   "id": "28d846642607427f"
  }
 ],
 "metadata": {
  "kernelspec": {
   "display_name": "Python 3",
   "language": "python",
   "name": "python3"
  },
  "language_info": {
   "codemirror_mode": {
    "name": "ipython",
    "version": 2
   },
   "file_extension": ".py",
   "mimetype": "text/x-python",
   "name": "python",
   "nbconvert_exporter": "python",
   "pygments_lexer": "ipython2",
   "version": "2.7.6"
  }
 },
 "nbformat": 4,
 "nbformat_minor": 5
}
